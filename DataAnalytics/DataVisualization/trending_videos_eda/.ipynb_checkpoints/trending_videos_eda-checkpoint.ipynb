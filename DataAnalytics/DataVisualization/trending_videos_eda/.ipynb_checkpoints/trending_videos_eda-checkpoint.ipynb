{
 "cells": [
  {
   "cell_type": "markdown",
   "metadata": {},
   "source": [
    "# Trending Youtube Video Statistics"
   ]
  },
  {
   "cell_type": "code",
   "execution_count": 21,
   "metadata": {},
   "outputs": [],
   "source": [
    "# Lib Imports\n",
    "import os\n",
    "import json\n",
    "import pandas as pd\n",
    "import numpy as np\n",
    "import pandas_profiling\n",
    "from pandas_profiling import ProfileReport"
   ]
  },
  {
   "cell_type": "code",
   "execution_count": 4,
   "metadata": {},
   "outputs": [
    {
     "name": "stderr",
     "output_type": "stream",
     "text": [
      "/home/yamasjose/anaconda3/lib/python3.7/site-packages/ipykernel_launcher.py:5: FutureWarning: Passing a negative integer is deprecated in version 1.0 and will not be supported in future version. Instead, use None to not limit the column width.\n",
      "  \"\"\"\n"
     ]
    }
   ],
   "source": [
    "# Removes any \"Output\" limitations\n",
    "pd.set_option('display.max_rows', None)\n",
    "pd.set_option('display.max_columns', None)\n",
    "pd.set_option('display.width', None)\n",
    "pd.set_option('display.max_colwidth', -1)"
   ]
  },
  {
   "cell_type": "code",
   "execution_count": 7,
   "metadata": {},
   "outputs": [
    {
     "name": "stdout",
     "output_type": "stream",
     "text": [
      "['USvideos.csv', 'CA_category_id.json', 'DE_category_id.json', 'GB_category_id.json', 'FRvideos.csv', 'RU_category_id.json', 'RUvideos.csv', 'JP_category_id.json', 'CAvideos.csv', 'FR_category_id.json', 'KRvideos.csv', 'INvideos.csv', 'US_category_id.json', 'KR_category_id.json', 'MXvideos.csv', 'MX_category_id.json', 'DEvideos.csv', 'JPvideos.csv', 'IN_category_id.json', 'GBvideos.csv']\n"
     ]
    }
   ],
   "source": [
    "print(os.listdir(\"data/\"))"
   ]
  },
  {
   "cell_type": "code",
   "execution_count": 24,
   "metadata": {},
   "outputs": [],
   "source": [
    "# Reading in CSV File using Pandas\n",
    "df = pd.read_csv('data/USvideos.csv')\n",
    "# df.head()"
   ]
  },
  {
   "cell_type": "code",
   "execution_count": 33,
   "metadata": {},
   "outputs": [],
   "source": [
    "# # Reading in US Video Category IDs\n",
    "# with open('data/US_category_id.json', 'r') as myfile:\n",
    "#     data=myfile.read()\n",
    "\n",
    "# # parse file\n",
    "# obj = json.loads(data)\n",
    "# print(obj)"
   ]
  },
  {
   "cell_type": "markdown",
   "metadata": {},
   "source": [
    "32 Categories\n",
    "\n",
    "{'id': '1', 'snippet': {'title': 'Film & Animation'}}, \n",
    "{'id': '2', 'snippet': {'title': 'Autos & Vehicles'}}, \n",
    "{'id': '10', 'snippet': {'title': 'Music'}}, \n",
    "{'id': '15', 'snippet': {'title': 'Pets & Animals'}}, \n",
    "{'id': '17', 'snippet': {'title': 'Sports'}}, \n",
    "{'id': '18', 'snippet': {'title': 'Short Movies'}}, \n",
    "{'id': '19', 'snippet': {'title': 'Travel & Events'}}, \n",
    "{'id': '20', 'snippet': {'title': 'Gaming'}}, \n",
    "{'id': '21', 'snippet': {'title': 'Videoblogging'}}, \n",
    "{'id': '22', 'snippet': {'title': 'People & Blogs'}}, \n",
    "{'id': '23', 'snippet': {'title': 'Comedy'}}, \n",
    "{'id': '24', 'snippet': {'title': 'Entertainment'}}, \n",
    "{'id': '25', 'snippet': {'title': 'News & Politics'}}, \n",
    "{'id': '26', 'snippet': {'title': 'Howto & Style'}}, \n",
    "{'id': '27', 'snippet': {'title': 'Education'}}, \n",
    "{'id': '28', 'snippet': {'title': 'Science & Technology'}}, \n",
    "{'id': '29', 'snippet': {'title': 'Nonprofits & Activism'}}, \n",
    "{'id': '30', 'snippet': {'title': 'Movies'}}, \n",
    "{'id': '31', 'snippet': {'title': 'Anime/Animation'}}, \n",
    "{'id': '32', 'snippet': {'title': 'Action/Adventure'}}, \n",
    "{'id': '33', 'snippet': {'title': 'Classics'}}, \n",
    "{'id': '34', 'snippet': {'title': 'Comedy'}}, \n",
    "{'id': '35', 'snippet': {'title': 'Documentary'}}, \n",
    "{'id': '36', 'snippet': {'title': 'Drama'}}, \n",
    "{'id': '37', 'snippet': {'title': 'Family'}}, \n",
    "{'id': '38', 'snippet': {'title': 'Foreign'}}, \n",
    "{'id': '39', 'snippet': {'title': 'Horror'}}, \n",
    "{'id': '40', 'snippet': {'title': 'Sci-Fi/Fantasy'}}, \n",
    "{'id': '41', 'snippet': {'title': 'Thriller'}}, \n",
    "{'id': '42', 'snippet': {'title': 'Shorts'}}, \n",
    "{'id': '43', 'snippet': {'title': 'Shows'}}, \n",
    "{'id': '44', 'snippet': {'title': 'Trailers'}}]}"
   ]
  },
  {
   "cell_type": "markdown",
   "metadata": {},
   "source": [
    "## Automated 'PandasProfiling' EDA"
   ]
  },
  {
   "cell_type": "code",
   "execution_count": 19,
   "metadata": {},
   "outputs": [],
   "source": [
    "# Create Automated EDA Report\n",
    "profile = ProfileReport(df, title='Pandas Profiling Report', explorative=True)\n",
    "\n",
    "# Print Report\n",
    "# profile"
   ]
  },
  {
   "cell_type": "markdown",
   "metadata": {},
   "source": [
    "## Data Overview"
   ]
  },
  {
   "cell_type": "code",
   "execution_count": 28,
   "metadata": {},
   "outputs": [
    {
     "data": {
      "text/plain": [
       "[1, 2, 10, 15, 17, 19, 20, 22, 23, 24, 25, 26, 27, 28, 29, 43]"
      ]
     },
     "execution_count": 28,
     "metadata": {},
     "output_type": "execute_result"
    }
   ],
   "source": [
    "sorted(df.category_id.unique())"
   ]
  },
  {
   "cell_type": "code",
   "execution_count": 31,
   "metadata": {},
   "outputs": [
    {
     "data": {
      "text/plain": [
       "16"
      ]
     },
     "execution_count": 31,
     "metadata": {},
     "output_type": "execute_result"
    }
   ],
   "source": [
    "len(df.category_id.unique())"
   ]
  },
  {
   "cell_type": "code",
   "execution_count": null,
   "metadata": {},
   "outputs": [],
   "source": []
  }
 ],
 "metadata": {
  "kernelspec": {
   "display_name": "Python 3",
   "language": "python",
   "name": "python3"
  },
  "language_info": {
   "codemirror_mode": {
    "name": "ipython",
    "version": 3
   },
   "file_extension": ".py",
   "mimetype": "text/x-python",
   "name": "python",
   "nbconvert_exporter": "python",
   "pygments_lexer": "ipython3",
   "version": "3.7.9"
  }
 },
 "nbformat": 4,
 "nbformat_minor": 4
}
